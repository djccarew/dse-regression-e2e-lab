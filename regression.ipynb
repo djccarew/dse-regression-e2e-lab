{
 "cells": [
  {
   "cell_type": "markdown",
   "metadata": {},
   "source": [
    "<center><h1> Predict Property Values with Watson Machine Learning</h1></center>\n",
    "\n",
    "<p>This notebook contains steps and code to create a predictive model to predict property tax valuation based on a few features of each property  and then deploy that model to Watson Machine Learning so it can be used in an application.</p>\n",
    "## Learning Goals\n",
    "The learning goals of this notebook are:\n",
    "* Load a CSV file into the  Object Storage Service linked to your Data Science Experience \n",
    "* Create an Apache® Spark machine learning model\n",
    "* Train and evaluate a model\n",
    "* Persist a model in a Watson Machine Learning repository\n",
    "\n",
    "## 1. Setup\n",
    "\n",
    "Before you use the sample code in this notebook, you must perform the following setup tasks:\n",
    "* Create a Watson Machine Learning Service instance (a free plan is offered) and associate it with your project\n",
    "* Upload property value data for the  city of Rotterdam  to the Object Store service that is part of your data Science Experience trial\n"
   ]
  },
  {
   "cell_type": "code",
   "execution_count": null,
   "metadata": {
    "collapsed": true
   },
   "outputs": [],
   "source": [
    "# IMPORTANT Follow the lab instructions to insert authentication and access info here to get access to the data used in this notebook\n",
    " "
   ]
  },
  {
   "cell_type": "markdown",
   "metadata": {},
   "source": [
    "## 2. Load and explore data\n",
    "<p>In this section you will load the data as an Apache® Spark DataFrame and perform a basic exploration.</p>\n",
    "\n",
    "<p>Load the data to the Spark DataFrame from your associated Object Storage instance.</p>"
   ]
  },
  {
   "cell_type": "code",
   "execution_count": null,
   "metadata": {},
   "outputs": [],
   "source": [
    "# This function is used to setup the access of Spark to your Object Storage. \n",
    "def set_os_config_with_credentials(credentials):\n",
    "    \"\"\"This function sets the configuration so it is possible to\n",
    "    access data from Bluemix Object Storage using Spark\"\"\"\n",
    "   \n",
    "    hconf = sc._jsc.hadoopConfiguration()\n",
    "    hconf.set('fs.swift.service.keystone.auth.url', credentials['auth_url'] + '/v3/auth/tokens')\n",
    "    hconf.set('fs.swift.service.keystone.auth.endpoint.prefix', 'endpoints')\n",
    "    hconf.set('fs.swift.service.keystone.tenant', credentials['project_id'])\n",
    "    hconf.set('fs.swift.service.keystone.username', credentials['user_id'])\n",
    "    hconf.set('fs.swift.service.keystone.password', credentials['password'] )\n",
    "    hconf.setInt('fs.swift.service.keystone.http.port', 8080)\n",
    "    hconf.set('fs.swift.service.keystone.region', credentials['region'])\n",
    "    hconf.setBoolean('fs.swift.service.keystone.public', False)\n",
    "    \n",
    "# Right side of assignment must match the variable created via the Insert Credentail operation\n",
    "mycredentials = credentials_1\n",
    "\n",
    "set_os_config_with_credentials(mycredentials)\n",
    "\n",
    "spark = SparkSession.builder.getOrCreate()\n",
    "\n",
    "# Read data file and create a Data Frame\n",
    "df_data_raw = spark.read\\\n",
    "  .format('org.apache.spark.sql.execution.datasources.csv.CSVFileFormat')\\\n",
    "  .option('header', 'true')\\\n",
    "  .option('inferSchema', 'true')\\\n",
    "  .load('swift://' + mycredentials['container'] + '.keystone'  + '/' + mycredentials['filename'])\n",
    "\n",
    "# Drop property_id column as it will not be used by our model\n",
    "df_data = df_data_raw.drop('property_id')"
   ]
  },
  {
   "cell_type": "markdown",
   "metadata": {},
   "source": [
    "Explore the loaded data by using the following Apache® Spark DataFrame methods:\n",
    "* print schema\n",
    "* print top ten records\n",
    "* count all records"
   ]
  },
  {
   "cell_type": "code",
   "execution_count": null,
   "metadata": {},
   "outputs": [],
   "source": [
    "df_data.printSchema()"
   ]
  },
  {
   "cell_type": "markdown",
   "metadata": {},
   "source": [
    "As you can see, we will work with seven fields. The  *taxable_value* field is the one we would like to predict."
   ]
  },
  {
   "cell_type": "code",
   "execution_count": null,
   "metadata": {},
   "outputs": [],
   "source": [
    "df_data.show()"
   ]
  },
  {
   "cell_type": "code",
   "execution_count": null,
   "metadata": {},
   "outputs": [],
   "source": [
    "df_data.count()"
   ]
  },
  {
   "cell_type": "markdown",
   "metadata": {},
   "source": [
    "As you can see, the data set contains 1138 records."
   ]
  },
  {
   "cell_type": "markdown",
   "metadata": {},
   "source": [
    "## 3. Create an Apache® Spark machine learning model\n",
    "In this section you will learn how to prepare data, create and train an Apache® Spark machine learning model.\n",
    "\n",
    "### 3.1: Prepare data\n",
    "In this subsection you will split your data into: train and  test  data sets."
   ]
  },
  {
   "cell_type": "code",
   "execution_count": null,
   "metadata": {},
   "outputs": [],
   "source": [
    "split_data = df_data.randomSplit([0.7, 0.30], 24)\n",
    "train_data = split_data[0]\n",
    "test_data = split_data[1]\n",
    "\n",
    "\n",
    "print \"Number of training records: \" + str(train_data.count())\n",
    "print \"Number of testing records : \" + str(test_data.count())"
   ]
  },
  {
   "cell_type": "markdown",
   "metadata": {},
   "source": [
    "As you can see our data has been successfully split into two data sets:\n",
    "* The train data set, which is the largest group, is used for training.\n",
    "* The test data set will be used for model evaluation and is used to test the assumptions of the model.\n",
    "\n",
    "### 3.2: Create pipeline and train a model\n",
    "In this section you will create an Apache® Spark machine learning pipeline and then train the model.\n",
    "In the first step you need to import the Apache® Spark machine learning packages that will be needed in the subsequent steps.\n",
    "\n",
    "A sequence of data processing is called a _data pipeline_.  Each step in the pipeline processes the data and passes the result to the next step in the pipeline, this allows you to transform and fit your model with the raw input data."
   ]
  },
  {
   "cell_type": "code",
   "execution_count": null,
   "metadata": {
    "collapsed": true
   },
   "outputs": [],
   "source": [
    "# Imports for building and testing predictive model\n",
    "from pyspark.ml.feature import StringIndexer, IndexToString, VectorAssembler\n",
    "from pyspark.ml.regression import RandomForestRegressor\n",
    "from pyspark.ml.evaluation import RegressionEvaluator\n",
    "from pyspark.ml import Pipeline, Model\n"
   ]
  },
  {
   "cell_type": "markdown",
   "metadata": {},
   "source": [
    "In the following step, convert all the string fields to numeric ones by using the StringIndexer transformer."
   ]
  },
  {
   "cell_type": "code",
   "execution_count": null,
   "metadata": {
    "collapsed": true
   },
   "outputs": [],
   "source": [
    "stringIndexer_neighborhood = StringIndexer(inputCol=\"neighborhood\", outputCol=\"neighborhood_ix\")\n",
    "stringIndexer_building_type = StringIndexer(inputCol=\"building_type\", outputCol=\"building_type_ix\")\n"
   ]
  },
  {
   "cell_type": "markdown",
   "metadata": {},
   "source": [
    "\n",
    "In the following step, create a feature vector by combining all features together."
   ]
  },
  {
   "cell_type": "code",
   "execution_count": null,
   "metadata": {
    "collapsed": true
   },
   "outputs": [],
   "source": [
    "vectorAssembler_features = VectorAssembler(inputCols=[\"neighborhood_ix\", \"building_type_ix\", \"year_built\", \"volume_interior\", \"volume_other\", \"lot_size\"], outputCol=\"features\")"
   ]
  },
  {
   "cell_type": "markdown",
   "metadata": {},
   "source": [
    "Next, define estimators you want to use for regression. A RandomForestRegressor is used in the following example."
   ]
  },
  {
   "cell_type": "code",
   "execution_count": null,
   "metadata": {
    "collapsed": true
   },
   "outputs": [],
   "source": [
    "rf = RandomForestRegressor(numTrees=100, maxDepth=8, maxBins=256, labelCol=\"taxable_value\", featuresCol=\"features\")\n",
    "  "
   ]
  },
  {
   "cell_type": "markdown",
   "metadata": {},
   "source": [
    "Let's build the pipeline now. A pipeline consists of transformers and an estimator."
   ]
  },
  {
   "cell_type": "code",
   "execution_count": null,
   "metadata": {
    "collapsed": true
   },
   "outputs": [],
   "source": [
    "pipeline_rf = Pipeline(stages=[stringIndexer_neighborhood, stringIndexer_building_type, vectorAssembler_features, rf])\n"
   ]
  },
  {
   "cell_type": "markdown",
   "metadata": {},
   "source": [
    "Now, you can train your Random Forest Regressor  by using the previously defined **pipeline** and **training data**."
   ]
  },
  {
   "cell_type": "code",
   "execution_count": null,
   "metadata": {
    "collapsed": true
   },
   "outputs": [],
   "source": [
    "model_rf = pipeline_rf.fit(train_data)"
   ]
  },
  {
   "cell_type": "markdown",
   "metadata": {},
   "source": [
    "You can check your model accuracy now. To evaluate the model, use test data and compute the Mean Absolute Error (ie average of the  absolute value of the difference between  the predicted and actual value)."
   ]
  },
  {
   "cell_type": "code",
   "execution_count": null,
   "metadata": {},
   "outputs": [],
   "source": [
    "predictions = model_rf.transform(test_data)\n",
    "\n",
    "# Compute test error\n",
    "evaluator = RegressionEvaluator(labelCol=\"taxable_value\", predictionCol=\"prediction\", metricName=\"mae\")\n",
    "mae = evaluator.evaluate(predictions)\n",
    "print(\"Mean Absolute Error (MAE) on test data = %g\" % mae)"
   ]
  },
  {
   "cell_type": "markdown",
   "metadata": {},
   "source": [
    "You can tune your model now to achieve better accuracy. For simplicity of this example tuning section is omitted.\n",
    "## 4. Interactive Visualizations of results w/PixieDust"
   ]
  },
  {
   "cell_type": "code",
   "execution_count": null,
   "metadata": {},
   "outputs": [],
   "source": [
    "# To confirm you have the latest version of PixieDust on your system, run this cell\n",
    "!pip install --user --upgrade pixiedust"
   ]
  },
  {
   "cell_type": "markdown",
   "metadata": {},
   "source": [
    "If indicated by the installer, restart the kernel and rerun the notebook until here and continue with the workshop.\n",
    "\n",
    "### 4.1 Scatterplot of actual v predicted\n",
    "For a regression model a scatterplot of actual v predicted is the easiest way to visualize how well the model works. A perfect  predictor will result in the line *y=x* so a good model has most of the data points clustered close to  the line *y=x* with very few outliers. Run the code below and then select a **Scatterplot** as the chart type. For the *options*, drag the field ***prediction*** to the **Keys** section and drag the field ***taxable_value*** to the **Values** section. Enter ```1138``` as the number of rows to display. Once the scatterplot appears note that you can see that  the model works well for  most properties but there are some  outliers across the whole range of  properties.    \n",
    "\n",
    "Note that your scatterplot should like like this:\n",
    "\n",
    "![](https://github.com/djccarew/dse-regression-lab/raw/master/images/scatterplot.png \"Scatterplot image\")"
   ]
  },
  {
   "cell_type": "code",
   "execution_count": null,
   "metadata": {
    "pixiedust": {
     "displayParams": {
      "handlerId": "scatterPlot",
      "keyFields": "prediction",
      "rowCount": "1138",
      "title": "Rotterdam Housing Prices - Predicted v Actual",
      "valueFields": "taxable_value"
     }
    }
   },
   "outputs": [],
   "source": [
    "import pixiedust\n",
    "scatter_plot_df = predictions.select('taxable_value', 'prediction')\n",
    "display(scatter_plot_df)"
   ]
  },
  {
   "cell_type": "markdown",
   "metadata": {},
   "source": [
    "\n",
    "## 5. Persist model\n",
    "In this section you will learn how to store your pipeline and model in Watson Machine Learning repository by using Python client libraries.\n",
    "First, you must import client libraries."
   ]
  },
  {
   "cell_type": "code",
   "execution_count": null,
   "metadata": {
    "collapsed": true
   },
   "outputs": [],
   "source": [
    "from repository.mlrepositoryclient import MLRepositoryClient\n",
    "from repository.mlrepositoryartifact import MLRepositoryArtifact"
   ]
  },
  {
   "cell_type": "markdown",
   "metadata": {},
   "source": [
    "Authenticate to Watson Machine Learning service on Bluemix.\n",
    "\n",
    "## **STOP here !!!!:** \n",
    "Put authentication information (username and password)  from your instance of Watson Machine Learning service here."
   ]
  },
  {
   "cell_type": "code",
   "execution_count": null,
   "metadata": {
    "collapsed": true
   },
   "outputs": [],
   "source": [
    "service_path = 'https://ibm-watson-ml.mybluemix.net'\n",
    "username = 'xxxxxxxxxxxxxxx'\n",
    "password = 'xxxxxxxxxxxxxxx'\n"
   ]
  },
  {
   "cell_type": "markdown",
   "metadata": {},
   "source": [
    "**Tip:** service_path, username and password can be found on Service Credentials tab of the Watson Machine Learning service instance created in Bluemix."
   ]
  },
  {
   "cell_type": "code",
   "execution_count": null,
   "metadata": {
    "collapsed": true
   },
   "outputs": [],
   "source": [
    "ml_repository_client = MLRepositoryClient(service_path)\n",
    "ml_repository_client.authorize(username, password)"
   ]
  },
  {
   "cell_type": "markdown",
   "metadata": {},
   "source": [
    "Create model artifact (abstraction layer)."
   ]
  },
  {
   "cell_type": "code",
   "execution_count": null,
   "metadata": {
    "collapsed": true
   },
   "outputs": [],
   "source": [
    "model_artifact = MLRepositoryArtifact(model_rf, training_data=train_data, name=\"Property Value Prediction Model\")"
   ]
  },
  {
   "cell_type": "markdown",
   "metadata": {},
   "source": [
    "**Tip:** The MLRepositoryArtifact method expects a trained model object, training data, and a model name. (It is this model name that is displayed by the Watson Machine Learning service).\n",
    "## 5.1: Save pipeline and model¶\n",
    "In this subsection you will learn how to save pipeline and model artifacts to your Watson Machine Learning instance."
   ]
  },
  {
   "cell_type": "code",
   "execution_count": null,
   "metadata": {
    "collapsed": true
   },
   "outputs": [],
   "source": [
    "saved_model = ml_repository_client.models.save(model_artifact)"
   ]
  },
  {
   "cell_type": "markdown",
   "metadata": {},
   "source": [
    "Get saved model metadata from Watson Machine Learning.\n",
    "**Tip:** Use *meta.availableProps* to get the list of available props."
   ]
  },
  {
   "cell_type": "code",
   "execution_count": null,
   "metadata": {},
   "outputs": [],
   "source": [
    "saved_model.meta.available_props()"
   ]
  },
  {
   "cell_type": "markdown",
   "metadata": {},
   "source": [
    "Display key properties of the saved model"
   ]
  },
  {
   "cell_type": "code",
   "execution_count": null,
   "metadata": {},
   "outputs": [],
   "source": [
    "import json\n",
    "\n",
    "print \"modelType: \" + saved_model.meta.prop(\"modelType\")\n",
    "print \"trainingDataSchema: \"\n",
    "print (json.dumps(saved_model.meta.prop(\"trainingDataSchema\"), indent=3)) \n",
    "print \"creationTime: \" + str(saved_model.meta.prop(\"creationTime\"))\n",
    "print \"modelVersionHref: \" + saved_model.meta.prop(\"modelVersionHref\")\n",
    "print \"label: \" + saved_model.meta.prop(\"label\")"
   ]
  },
  {
   "cell_type": "markdown",
   "metadata": {},
   "source": [
    "\n",
    "## 5.2 Load model to verify that it was saved correctly\n",
    "You can load your model  to make sure that it was saved  correctly."
   ]
  },
  {
   "cell_type": "code",
   "execution_count": null,
   "metadata": {
    "collapsed": true
   },
   "outputs": [],
   "source": [
    "loadedModelArtifact = ml_repository_client.models.get(saved_model.uid)"
   ]
  },
  {
   "cell_type": "markdown",
   "metadata": {},
   "source": [
    "Print the  model name to make sure that model artifact has been loaded correctly."
   ]
  },
  {
   "cell_type": "code",
   "execution_count": null,
   "metadata": {},
   "outputs": [],
   "source": [
    "print str(loadedModelArtifact.name)"
   ]
  },
  {
   "cell_type": "markdown",
   "metadata": {},
   "source": [
    "Congratulations. You've sucessfully created a predictive model and saved it in the Watson Machine Learning service. You can now switch to the Watson Machine Learning console to deploy the model and then test it in application.\n"
   ]
  }
 ],
 "metadata": {
  "celltoolbar": "Raw Cell Format",
  "kernelspec": {
   "display_name": "Python 2 with Spark 2.1",
   "language": "python",
   "name": "python2-spark21"
  },
  "language_info": {
   "codemirror_mode": {
    "name": "ipython",
    "version": 2
   },
   "file_extension": ".py",
   "mimetype": "text/x-python",
   "name": "python",
   "nbconvert_exporter": "python",
   "pygments_lexer": "ipython2",
   "version": "2.7.11"
  }
 },
 "nbformat": 4,
 "nbformat_minor": 1
}
